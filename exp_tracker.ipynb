{
 "cells": [
  {
   "cell_type": "markdown",
   "id": "9003ea56",
   "metadata": {},
   "source": [
    "# 0. Set up"
   ]
  },
  {
   "cell_type": "code",
   "execution_count": 2,
   "id": "eec5cded",
   "metadata": {
    "pycharm": {
     "is_executing": true
    }
   },
   "outputs": [],
   "source": [
    "import json\n",
    "import numpy as np\n",
    "import pandas as pd\n",
    "import qgrid\n",
    "import ipywidgets as widgets\n",
    "import matplotlib.pyplot as plt\n",
    "from exp_tracker.module_1 import *\n",
    "from exp_tracker.module_2 import *\n",
    "from exp_tracker.module_3 import *"
   ]
  },
  {
   "cell_type": "markdown",
   "id": "22d92d9b",
   "metadata": {},
   "source": [
    "# 1. Create or import project"
   ]
  },
  {
   "cell_type": "markdown",
   "id": "24a3edaf",
   "metadata": {},
   "source": [
    "<font color=blue size=4>In this module, we can open the project by either creating or importing one."
   ]
  },
  {
   "cell_type": "code",
   "execution_count": 3,
   "id": "44586e6f",
   "metadata": {},
   "outputs": [
    {
     "name": "stdout",
     "output_type": "stream",
     "text": [
      "Create or import project?\n"
     ]
    },
    {
     "data": {
      "application/vnd.jupyter.widget-view+json": {
       "model_id": "5c32a1e57e0a48ddbcc0f4900976f748",
       "version_major": 2,
       "version_minor": 0
      },
      "text/plain": [
       "RadioButtons(description='Choose:', options=('Create new project', 'Import existing project'), value='Create n…"
      ]
     },
     "metadata": {},
     "output_type": "display_data"
    }
   ],
   "source": [
    "choice = choice_1()\n",
    "display(choice)"
   ]
  },
  {
   "cell_type": "code",
   "execution_count": 21,
   "id": "be03bfa0",
   "metadata": {},
   "outputs": [
    {
     "name": "stdout",
     "output_type": "stream",
     "text": [
      "Please enter the name of the new project: \n"
     ]
    },
    {
     "data": {
      "application/vnd.jupyter.widget-view+json": {
       "model_id": "fc62d24b7dd14accac6216246187a034",
       "version_major": 2,
       "version_minor": 0
      },
      "text/plain": [
       "Text(value='', description='Project: ')"
      ]
     },
     "metadata": {},
     "output_type": "display_data"
    }
   ],
   "source": [
    "project_choice = project_widget(choice)\n",
    "display(project_choice)"
   ]
  },
  {
   "cell_type": "code",
   "execution_count": 5,
   "id": "c42cf499",
   "metadata": {},
   "outputs": [
    {
     "name": "stdout",
     "output_type": "stream",
     "text": [
      "The project you choose is: my_exp_2021\n"
     ]
    }
   ],
   "source": [
    "project_name = project_name_validation(choice, project_choice)"
   ]
  },
  {
   "cell_type": "markdown",
   "id": "e1d6b2d0",
   "metadata": {},
   "source": [
    "# 2. Basic operation"
   ]
  },
  {
   "cell_type": "markdown",
   "id": "5e83aa24",
   "metadata": {},
   "source": [
    "<font color=blue size=4>In this module, we can do some basic operations with our project."
   ]
  },
  {
   "cell_type": "markdown",
   "id": "3782b53a",
   "metadata": {},
   "source": [
    "## 2.1 Display the transactions"
   ]
  },
  {
   "cell_type": "code",
   "execution_count": 16,
   "id": "d97d4c12",
   "metadata": {
    "scrolled": true
   },
   "outputs": [
    {
     "data": {
      "application/vnd.jupyter.widget-view+json": {
       "model_id": "654c67af4b424909af68e008bdbe169b",
       "version_major": 2,
       "version_minor": 0
      },
      "text/plain": [
       "QgridWidget(grid_options={'fullWidthRows': True, 'syncColumnCellResize': True, 'forceFitColumns': True, 'defau…"
      ]
     },
     "metadata": {},
     "output_type": "display_data"
    }
   ],
   "source": [
    "display_transaction(project_name)"
   ]
  },
  {
   "cell_type": "markdown",
   "id": "6014c51e",
   "metadata": {},
   "source": [
    "## 2.2 Add a transaction"
   ]
  },
  {
   "cell_type": "code",
   "execution_count": 7,
   "id": "5a360452",
   "metadata": {},
   "outputs": [
    {
     "name": "stdout",
     "output_type": "stream",
     "text": [
      "Please pick the date of the transaction: \n"
     ]
    },
    {
     "data": {
      "application/vnd.jupyter.widget-view+json": {
       "model_id": "cf9badbdf9c04d7288a0ac8b06eeb590",
       "version_major": 2,
       "version_minor": 0
      },
      "text/plain": [
       "DatePicker(value=None, description='Date:')"
      ]
     },
     "metadata": {},
     "output_type": "display_data"
    }
   ],
   "source": [
    "date = date_widget()\n",
    "display(date)"
   ]
  },
  {
   "cell_type": "code",
   "execution_count": 8,
   "id": "28f7d244",
   "metadata": {},
   "outputs": [
    {
     "name": "stdout",
     "output_type": "stream",
     "text": [
      "The date is: 2021-05-20\n",
      "Please enter the amount of the transaction: \n"
     ]
    },
    {
     "data": {
      "application/vnd.jupyter.widget-view+json": {
       "model_id": "5a19e4b4dec64b028dca50ad32b29e87",
       "version_major": 2,
       "version_minor": 0
      },
      "text/plain": [
       "BoundedFloatText(value=0.0, description='Amount:', max=1000000.0, step=0.01)"
      ]
     },
     "metadata": {},
     "output_type": "display_data"
    }
   ],
   "source": [
    "amount = amount_widget(date)\n",
    "display(amount)"
   ]
  },
  {
   "cell_type": "code",
   "execution_count": 9,
   "id": "108597c4",
   "metadata": {},
   "outputs": [
    {
     "name": "stdout",
     "output_type": "stream",
     "text": [
      "The amount is: 89.0\n",
      "Please choose the category of the transaction: \n"
     ]
    },
    {
     "data": {
      "application/vnd.jupyter.widget-view+json": {
       "model_id": "4986de671dc84dfc9b1750e72883b47f",
       "version_major": 2,
       "version_minor": 0
      },
      "text/plain": [
       "Dropdown(description='Category:', options=('Home & Utilities', 'Transportation', 'Groceries', 'Restaurants & D…"
      ]
     },
     "metadata": {},
     "output_type": "display_data"
    }
   ],
   "source": [
    "category = category_widget(amount)\n",
    "display(category)"
   ]
  },
  {
   "cell_type": "code",
   "execution_count": 10,
   "id": "5dfa78e9",
   "metadata": {},
   "outputs": [
    {
     "name": "stdout",
     "output_type": "stream",
     "text": [
      "The category is: Groceries\n",
      "Please choose the account of the transaction: \n"
     ]
    },
    {
     "data": {
      "application/vnd.jupyter.widget-view+json": {
       "model_id": "3b4d5a0c26544815932b9b7232a43e74",
       "version_major": 2,
       "version_minor": 0
      },
      "text/plain": [
       "Dropdown(description='Account:', options=('Cash', 'Debit Card', 'Credit Card'), value='Cash')"
      ]
     },
     "metadata": {},
     "output_type": "display_data"
    }
   ],
   "source": [
    "account = account_widget(category)\n",
    "display(account)"
   ]
  },
  {
   "cell_type": "code",
   "execution_count": 11,
   "id": "9235d084",
   "metadata": {},
   "outputs": [
    {
     "name": "stdout",
     "output_type": "stream",
     "text": [
      "The account is: Credit Card\n",
      "Please enter the description of the transaction: \n"
     ]
    },
    {
     "data": {
      "application/vnd.jupyter.widget-view+json": {
       "model_id": "f4cfb313ee5c407dac08ed9172e1972b",
       "version_major": 2,
       "version_minor": 0
      },
      "text/plain": [
       "Text(value='', description='Description:')"
      ]
     },
     "metadata": {},
     "output_type": "display_data"
    }
   ],
   "source": [
    "description = description_widget(account)\n",
    "display(description)"
   ]
  },
  {
   "cell_type": "code",
   "execution_count": 12,
   "id": "295f97fb",
   "metadata": {},
   "outputs": [
    {
     "name": "stdout",
     "output_type": "stream",
     "text": [
      "The description is: test\n",
      "The id is: 95\n"
     ]
    }
   ],
   "source": [
    "id = set_id(description, project_name)"
   ]
  },
  {
   "cell_type": "code",
   "execution_count": 13,
   "id": "e4944711",
   "metadata": {},
   "outputs": [
    {
     "name": "stdout",
     "output_type": "stream",
     "text": [
      "\n",
      "The transaction to add: \n"
     ]
    },
    {
     "data": {
      "text/plain": [
       "id                      95\n",
       "Date            2021-05-20\n",
       "Amount                89.0\n",
       "Category         Groceries\n",
       "Account        Credit Card\n",
       "Description           test\n",
       "dtype: object"
      ]
     },
     "metadata": {},
     "output_type": "display_data"
    },
    {
     "name": "stdout",
     "output_type": "stream",
     "text": [
      "Do you want to add the transaction? \n"
     ]
    },
    {
     "data": {
      "application/vnd.jupyter.widget-view+json": {
       "model_id": "0808a4cc09b44e8e91a5fede7503840c",
       "version_major": 2,
       "version_minor": 0
      },
      "text/plain": [
       "Checkbox(value=False, description='Yes, add', indent=False)"
      ]
     },
     "metadata": {},
     "output_type": "display_data"
    }
   ],
   "source": [
    "check_add = confirm_add(id, date, amount, category, account, description, project_name)\n",
    "display(check_add)"
   ]
  },
  {
   "cell_type": "code",
   "execution_count": 14,
   "id": "2d3868d7",
   "metadata": {},
   "outputs": [
    {
     "name": "stdout",
     "output_type": "stream",
     "text": [
      "The transaction is added\n"
     ]
    }
   ],
   "source": [
    "add_transaction(id, date, amount, category, account, description, project_name, check_add)"
   ]
  },
  {
   "cell_type": "markdown",
   "id": "1d4d9e41",
   "metadata": {},
   "source": [
    "## 2.3 Update the transaction"
   ]
  },
  {
   "cell_type": "code",
   "execution_count": 8,
   "id": "439fd08a",
   "metadata": {},
   "outputs": [
    {
     "name": "stdout",
     "output_type": "stream",
     "text": [
      "Please enter the id of the transaction you want to update:\n"
     ]
    },
    {
     "data": {
      "application/vnd.jupyter.widget-view+json": {
       "model_id": "a19f67156940412db038306a0bb2beb4",
       "version_major": 2,
       "version_minor": 0
      },
      "text/plain": [
       "Combobox(value='', description='id:', ensure_option=True, options=('0', '1', '2', '3', '4', '5', '6', '7', '8'…"
      ]
     },
     "metadata": {},
     "output_type": "display_data"
    }
   ],
   "source": [
    "id = get_id_to_update(project_name)\n",
    "display(id)"
   ]
  },
  {
   "cell_type": "code",
   "execution_count": 9,
   "id": "54b7679a",
   "metadata": {},
   "outputs": [
    {
     "name": "stdout",
     "output_type": "stream",
     "text": [
      "Please pick the date of the transaction: \n"
     ]
    },
    {
     "data": {
      "application/vnd.jupyter.widget-view+json": {
       "model_id": "3c49eb7a06604f7ea72266979b132ad5",
       "version_major": 2,
       "version_minor": 0
      },
      "text/plain": [
       "DatePicker(value=None, description='Date:')"
      ]
     },
     "metadata": {},
     "output_type": "display_data"
    }
   ],
   "source": [
    "id.value\n",
    "date = date_widget()\n",
    "display(date)"
   ]
  },
  {
   "cell_type": "code",
   "execution_count": 10,
   "id": "3a58572c",
   "metadata": {},
   "outputs": [
    {
     "name": "stdout",
     "output_type": "stream",
     "text": [
      "The date is: 2021-07-10\n",
      "Please enter the amount of the transaction: \n"
     ]
    },
    {
     "data": {
      "application/vnd.jupyter.widget-view+json": {
       "model_id": "8616ef4e0db347c8b793868ff4b30b17",
       "version_major": 2,
       "version_minor": 0
      },
      "text/plain": [
       "BoundedFloatText(value=0.0, description='Amount:', max=1000000.0, step=0.01)"
      ]
     },
     "metadata": {},
     "output_type": "display_data"
    }
   ],
   "source": [
    "amount = amount_widget(date)\n",
    "display(amount)"
   ]
  },
  {
   "cell_type": "code",
   "execution_count": 11,
   "id": "8d8c1bb8",
   "metadata": {},
   "outputs": [
    {
     "name": "stdout",
     "output_type": "stream",
     "text": [
      "The amount is: 67.0\n",
      "Please choose the category of the transaction: \n"
     ]
    },
    {
     "data": {
      "application/vnd.jupyter.widget-view+json": {
       "model_id": "a52cc51c81274d13ada81242206358ef",
       "version_major": 2,
       "version_minor": 0
      },
      "text/plain": [
       "Dropdown(description='Category:', options=('Home & Utilities', 'Transportation', 'Groceries', 'Restaurants & D…"
      ]
     },
     "metadata": {},
     "output_type": "display_data"
    }
   ],
   "source": [
    "category = category_widget(amount)\n",
    "display(category)"
   ]
  },
  {
   "cell_type": "code",
   "execution_count": 12,
   "id": "16684b9e",
   "metadata": {},
   "outputs": [
    {
     "name": "stdout",
     "output_type": "stream",
     "text": [
      "The category is: Home & Utilities\n",
      "Please choose the account of the transaction: \n"
     ]
    },
    {
     "data": {
      "application/vnd.jupyter.widget-view+json": {
       "model_id": "d5ed926d710847f48f4f8804180092e8",
       "version_major": 2,
       "version_minor": 0
      },
      "text/plain": [
       "Dropdown(description='Account:', options=('Cash', 'Debit Card', 'Credit Card'), value='Cash')"
      ]
     },
     "metadata": {},
     "output_type": "display_data"
    }
   ],
   "source": [
    "account = account_widget(category)\n",
    "display(account)"
   ]
  },
  {
   "cell_type": "code",
   "execution_count": 13,
   "id": "ee07d3de",
   "metadata": {},
   "outputs": [
    {
     "name": "stdout",
     "output_type": "stream",
     "text": [
      "The account is: Credit Card\n",
      "Please enter the description of the transaction: \n"
     ]
    },
    {
     "data": {
      "application/vnd.jupyter.widget-view+json": {
       "model_id": "e6b0652440e349138408bb03a5360cf5",
       "version_major": 2,
       "version_minor": 0
      },
      "text/plain": [
       "Text(value='', description='Description:')"
      ]
     },
     "metadata": {},
     "output_type": "display_data"
    }
   ],
   "source": [
    "description = description_widget(account)\n",
    "display(description)"
   ]
  },
  {
   "cell_type": "code",
   "execution_count": 14,
   "id": "42a78e48",
   "metadata": {},
   "outputs": [
    {
     "name": "stdout",
     "output_type": "stream",
     "text": [
      "The original transaction information: \n"
     ]
    },
    {
     "data": {
      "text/plain": [
       "id                                   94\n",
       "Date                2021-04-27 00:00:00\n",
       "Amount                            49.85\n",
       "Category       Shopping & Entertainment\n",
       "Description                 WALMART.COM\n",
       "Account                     Credit Card\n",
       "Name: 94, dtype: object"
      ]
     },
     "metadata": {},
     "output_type": "display_data"
    },
    {
     "name": "stdout",
     "output_type": "stream",
     "text": [
      "\n",
      "The updated transaction information: \n"
     ]
    },
    {
     "data": {
      "text/plain": [
       "id                           94\n",
       "Date                 2021-07-10\n",
       "Amount                     67.0\n",
       "Category       Home & Utilities\n",
       "Account             Credit Card\n",
       "Description                    \n",
       "dtype: object"
      ]
     },
     "metadata": {},
     "output_type": "display_data"
    },
    {
     "name": "stdout",
     "output_type": "stream",
     "text": [
      "Do you want to update the transaction? \n"
     ]
    },
    {
     "data": {
      "application/vnd.jupyter.widget-view+json": {
       "model_id": "16854a6ff20547bcb8954309341ecaa4",
       "version_major": 2,
       "version_minor": 0
      },
      "text/plain": [
       "Checkbox(value=False, description='Yes, update', indent=False)"
      ]
     },
     "metadata": {},
     "output_type": "display_data"
    }
   ],
   "source": [
    "check_update = confirm_update(int(id.value), date.value, amount.value, str(category.value),str(account.value),str(description.value), project_name)\n",
    "display(check_update)"
   ]
  },
  {
   "cell_type": "code",
   "execution_count": 15,
   "id": "95d896ad",
   "metadata": {},
   "outputs": [
    {
     "name": "stdout",
     "output_type": "stream",
     "text": [
      "The transaction is updated\n"
     ]
    }
   ],
   "source": [
    "update_transaction(int(id.value), date.value, amount.value, str(category.value),str(account.value),str(description.value), project_name, check_update)"
   ]
  },
  {
   "cell_type": "markdown",
   "id": "e62f198e",
   "metadata": {},
   "source": [
    "## 2.4 Delete a transaction"
   ]
  },
  {
   "cell_type": "code",
   "execution_count": 25,
   "id": "d624f66e",
   "metadata": {},
   "outputs": [
    {
     "name": "stdout",
     "output_type": "stream",
     "text": [
      "Please enter the id of the transaction that you want to delete:\n"
     ]
    },
    {
     "data": {
      "application/vnd.jupyter.widget-view+json": {
       "model_id": "deec6e5fee774569a7bbca0f8a0a90b4",
       "version_major": 2,
       "version_minor": 0
      },
      "text/plain": [
       "Combobox(value='', description='id:', ensure_option=True, options=('0', '1', '2', '3', '4', '5', '6', '7', '8'…"
      ]
     },
     "metadata": {},
     "output_type": "display_data"
    }
   ],
   "source": [
    "id = get_id_to_delete(project_name)\n",
    "display(id)"
   ]
  },
  {
   "cell_type": "code",
   "execution_count": 26,
   "id": "6938806e",
   "metadata": {},
   "outputs": [
    {
     "name": "stdout",
     "output_type": "stream",
     "text": [
      "The  transaction information: \n"
     ]
    },
    {
     "data": {
      "text/plain": [
       "id                                   95\n",
       "Date                2021-05-20 00:00:00\n",
       "Amount                             70.0\n",
       "Category       Shopping & Entertainment\n",
       "Description                            \n",
       "Account                            Cash\n",
       "Name: 95, dtype: object"
      ]
     },
     "metadata": {},
     "output_type": "display_data"
    },
    {
     "name": "stdout",
     "output_type": "stream",
     "text": [
      "Do you want to delete the transaction? \n"
     ]
    },
    {
     "data": {
      "application/vnd.jupyter.widget-view+json": {
       "model_id": "fd34d6cf0c4249c9937c48eb6a813d2e",
       "version_major": 2,
       "version_minor": 0
      },
      "text/plain": [
       "Checkbox(value=False, description='Yes, delete', indent=False)"
      ]
     },
     "metadata": {},
     "output_type": "display_data"
    }
   ],
   "source": [
    "delete_checker = confirm_delete(int(id.value),  project_name)\n",
    "display(delete_checker)"
   ]
  },
  {
   "cell_type": "code",
   "execution_count": 27,
   "id": "bbf1f459",
   "metadata": {},
   "outputs": [
    {
     "name": "stdout",
     "output_type": "stream",
     "text": [
      "The transaction is deleted\n"
     ]
    }
   ],
   "source": [
    "delete_transaction(int(id.value), project_name, delete_checker)"
   ]
  },
  {
   "cell_type": "markdown",
   "id": "b700d457",
   "metadata": {},
   "source": [
    "# 3. Analyze"
   ]
  },
  {
   "cell_type": "markdown",
   "id": "4d2daad9",
   "metadata": {},
   "source": [
    "<font color=blue size=4>In this module, we can do some analysis by plotting the expenses data."
   ]
  },
  {
   "cell_type": "markdown",
   "id": "9c39f555",
   "metadata": {},
   "source": [
    "## 3.1 Select the data to analyze"
   ]
  },
  {
   "cell_type": "code",
   "execution_count": 17,
   "id": "5eb8a966",
   "metadata": {
    "scrolled": true
   },
   "outputs": [
    {
     "data": {
      "application/vnd.jupyter.widget-view+json": {
       "model_id": "c0061cd6ce184b83a5e8dcdc8df143b3",
       "version_major": 2,
       "version_minor": 0
      },
      "text/plain": [
       "QgridWidget(grid_options={'fullWidthRows': True, 'syncColumnCellResize': True, 'forceFitColumns': True, 'defau…"
      ]
     },
     "metadata": {},
     "output_type": "display_data"
    }
   ],
   "source": [
    "# Filter to select the data for analyzing\n",
    "qgrid_widget = display_transaction(project_name)\n",
    "display(qgrid_widget)"
   ]
  },
  {
   "cell_type": "code",
   "execution_count": 18,
   "id": "d8465ef0",
   "metadata": {},
   "outputs": [],
   "source": [
    "# Capture the filtered dataframe\n",
    "df = qgrid_widget.get_changed_df()"
   ]
  },
  {
   "cell_type": "markdown",
   "id": "722ce8d3",
   "metadata": {},
   "source": [
    "## 3.2 Monthly expenses bar chart"
   ]
  },
  {
   "cell_type": "code",
   "execution_count": 19,
   "id": "a9d2577a",
   "metadata": {},
   "outputs": [
    {
     "name": "stdout",
     "output_type": "stream",
     "text": [
      "Total expenses by month:\n",
      "\n",
      "  Year_month   Amount\n",
      "0    2021-03  1739.19\n"
     ]
    },
    {
     "data": {
      "image/png": "[encoded data removed]",
      "text/plain": [
       "<Figure size 576x432 with 1 Axes>"
      ]
     },
     "metadata": {
      "needs_background": "light"
     },
     "output_type": "display_data"
    },
    {
     "data": {
      "text/plain": [
       "<Figure size 432x288 with 0 Axes>"
      ]
     },
     "metadata": {},
     "output_type": "display_data"
    }
   ],
   "source": [
    "# Draw the bar chart with the filtered dataframe\n",
    "draw_bar_chart(df)"
   ]
  },
  {
   "cell_type": "markdown",
   "id": "1628cd00",
   "metadata": {},
   "source": [
    "## 3.3 Pie chart by category"
   ]
  },
  {
   "cell_type": "code",
   "execution_count": 20,
   "id": "afd9ba07",
   "metadata": {},
   "outputs": [
    {
     "name": "stdout",
     "output_type": "stream",
     "text": [
      "Total expenses by category:\n",
      "\n",
      "                   Category  Amount\n",
      "0                 Education   19.99\n",
      "1                 Groceries  447.49\n",
      "2                    Health    0.00\n",
      "3          Home & Utilities  890.00\n",
      "4                    Others   15.00\n",
      "5      Restaurants & Dining  127.44\n",
      "6  Shopping & Entertainment   93.23\n",
      "7            Transportation  146.04\n"
     ]
    },
    {
     "data": {
      "image/png": "[encoded data removed]",
      "text/plain": [
       "<Figure size 576x576 with 1 Axes>"
      ]
     },
     "metadata": {},
     "output_type": "display_data"
    },
    {
     "data": {
      "text/plain": [
       "<Figure size 432x288 with 0 Axes>"
      ]
     },
     "metadata": {},
     "output_type": "display_data"
    }
   ],
   "source": [
    "# Draw the pie chart with the filtered dataframe\n",
    "draw_pie_chart(df)"
   ]
  },
  {
   "cell_type": "code",
   "execution_count": null,
   "id": "8de1023e",
   "metadata": {},
   "outputs": [],
   "source": []
  }
 ],
 "metadata": {
  "kernelspec": {
   "display_name": "Python 3",
   "language": "python",
   "name": "python3"
  },
  "language_info": {
   "codemirror_mode": {
    "name": "ipython",
    "version": 3
   },
   "file_extension": ".py",
   "mimetype": "text/x-python",
   "name": "python",
   "nbconvert_exporter": "python",
   "pygments_lexer": "ipython3",
   "version": "3.9.4"
  }
 },
 "nbformat": 4,
 "nbformat_minor": 5
}